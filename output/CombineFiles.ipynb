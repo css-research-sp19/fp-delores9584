{
 "cells": [
  {
   "cell_type": "code",
   "execution_count": 1,
   "metadata": {},
   "outputs": [],
   "source": [
    "import pandas as pd\n",
    "import numpy as np"
   ]
  },
  {
   "cell_type": "markdown",
   "metadata": {},
   "source": [
    "# Combine two data files"
   ]
  },
  {
   "cell_type": "code",
   "execution_count": 2,
   "metadata": {},
   "outputs": [],
   "source": [
    "#Read in two files\n",
    "gil_info = pd.read_csv(\"gil_info_update.csv\")\n",
    "gil_scr = pd.read_csv(\"Gillam_scripts.csv\")"
   ]
  },
  {
   "cell_type": "code",
   "execution_count": 6,
   "metadata": {},
   "outputs": [
    {
     "data": {
      "text/plain": [
       "dict_values([497, 171])"
      ]
     },
     "execution_count": 6,
     "metadata": {},
     "output_type": "execute_result"
    }
   ],
   "source": [
    "pd.DataFrame.head(gil_info)\n",
    "from collections import Counter\n",
    "Counter(gil_info[\"Impaired\"]).keys()\n",
    "Counter(gil_info[\"Impaired\"]).values()"
   ]
  },
  {
   "cell_type": "code",
<<<<<<< HEAD
=======
   "execution_count": 105,
   "metadata": {},
   "outputs": [
    {
     "name": "stderr",
     "output_type": "stream",
     "text": [
      "/Users/hongyitang/anaconda3/lib/python3.7/site-packages/ipykernel_launcher.py:11: SettingWithCopyWarning: \n",
      "A value is trying to be set on a copy of a slice from a DataFrame\n",
      "\n",
      "See the caveats in the documentation: http://pandas.pydata.org/pandas-docs/stable/indexing.html#indexing-view-versus-copy\n",
      "  # This is added back by InteractiveShellApp.init_path()\n",
      "/Users/hongyitang/anaconda3/lib/python3.7/site-packages/ipykernel_launcher.py:12: SettingWithCopyWarning: \n",
      "A value is trying to be set on a copy of a slice from a DataFrame\n",
      "\n",
      "See the caveats in the documentation: http://pandas.pydata.org/pandas-docs/stable/indexing.html#indexing-view-versus-copy\n",
      "  if sys.path[0] == '':\n",
      "/Users/hongyitang/anaconda3/lib/python3.7/site-packages/ipykernel_launcher.py:13: SettingWithCopyWarning: \n",
      "A value is trying to be set on a copy of a slice from a DataFrame\n",
      "\n",
      "See the caveats in the documentation: http://pandas.pydata.org/pandas-docs/stable/indexing.html#indexing-view-versus-copy\n",
      "  del sys.path[0]\n"
     ]
    },
    {
     "ename": "KeyboardInterrupt",
     "evalue": "",
     "output_type": "error",
     "traceback": [
      "\u001b[0;31m---------------------------------------------------------------------------\u001b[0m",
      "\u001b[0;31mKeyboardInterrupt\u001b[0m                         Traceback (most recent call last)",
      "\u001b[0;32m<ipython-input-105-a1755d8092d4>\u001b[0m in \u001b[0;36m<module>\u001b[0;34m\u001b[0m\n\u001b[1;32m     11\u001b[0m     \u001b[0mgil_scr\u001b[0m\u001b[0;34m[\u001b[0m\u001b[0;34m\"Impaired\"\u001b[0m\u001b[0;34m]\u001b[0m\u001b[0;34m[\u001b[0m\u001b[0mi\u001b[0m\u001b[0;34m]\u001b[0m \u001b[0;34m=\u001b[0m \u001b[0mgil_info\u001b[0m\u001b[0;34m[\u001b[0m\u001b[0;34m\"Impaired\"\u001b[0m\u001b[0;34m]\u001b[0m\u001b[0;34m[\u001b[0m\u001b[0midx\u001b[0m\u001b[0;34m]\u001b[0m\u001b[0;34m\u001b[0m\u001b[0;34m\u001b[0m\u001b[0m\n\u001b[1;32m     12\u001b[0m     \u001b[0mgil_scr\u001b[0m\u001b[0;34m[\u001b[0m\u001b[0;34m\"Age\"\u001b[0m\u001b[0;34m]\u001b[0m\u001b[0;34m[\u001b[0m\u001b[0mi\u001b[0m\u001b[0;34m]\u001b[0m \u001b[0;34m=\u001b[0m \u001b[0mgil_info\u001b[0m\u001b[0;34m[\u001b[0m\u001b[0;34m\"Age\"\u001b[0m\u001b[0;34m]\u001b[0m\u001b[0;34m[\u001b[0m\u001b[0midx\u001b[0m\u001b[0;34m]\u001b[0m\u001b[0;34m\u001b[0m\u001b[0;34m\u001b[0m\u001b[0m\n\u001b[0;32m---> 13\u001b[0;31m     \u001b[0mgil_scr\u001b[0m\u001b[0;34m[\u001b[0m\u001b[0;34m\"Gender\"\u001b[0m\u001b[0;34m]\u001b[0m\u001b[0;34m[\u001b[0m\u001b[0mi\u001b[0m\u001b[0;34m]\u001b[0m \u001b[0;34m=\u001b[0m \u001b[0mgil_info\u001b[0m\u001b[0;34m[\u001b[0m\u001b[0;34m\"Gender\"\u001b[0m\u001b[0;34m]\u001b[0m\u001b[0;34m[\u001b[0m\u001b[0midx\u001b[0m\u001b[0;34m]\u001b[0m\u001b[0;34m\u001b[0m\u001b[0;34m\u001b[0m\u001b[0m\n\u001b[0m",
      "\u001b[0;32m~/anaconda3/lib/python3.7/site-packages/pandas/core/series.py\u001b[0m in \u001b[0;36m__setitem__\u001b[0;34m(self, key, value)\u001b[0m\n\u001b[1;32m    936\u001b[0m \u001b[0;34m\u001b[0m\u001b[0m\n\u001b[1;32m    937\u001b[0m         \u001b[0;31m# do the setitem\u001b[0m\u001b[0;34m\u001b[0m\u001b[0;34m\u001b[0m\u001b[0;34m\u001b[0m\u001b[0m\n\u001b[0;32m--> 938\u001b[0;31m         \u001b[0mcacher_needs_updating\u001b[0m \u001b[0;34m=\u001b[0m \u001b[0mself\u001b[0m\u001b[0;34m.\u001b[0m\u001b[0m_check_is_chained_assignment_possible\u001b[0m\u001b[0;34m(\u001b[0m\u001b[0;34m)\u001b[0m\u001b[0;34m\u001b[0m\u001b[0;34m\u001b[0m\u001b[0m\n\u001b[0m\u001b[1;32m    939\u001b[0m         \u001b[0msetitem\u001b[0m\u001b[0;34m(\u001b[0m\u001b[0mkey\u001b[0m\u001b[0;34m,\u001b[0m \u001b[0mvalue\u001b[0m\u001b[0;34m)\u001b[0m\u001b[0;34m\u001b[0m\u001b[0;34m\u001b[0m\u001b[0m\n\u001b[1;32m    940\u001b[0m         \u001b[0;32mif\u001b[0m \u001b[0mcacher_needs_updating\u001b[0m\u001b[0;34m:\u001b[0m\u001b[0;34m\u001b[0m\u001b[0;34m\u001b[0m\u001b[0m\n",
      "\u001b[0;32m~/anaconda3/lib/python3.7/site-packages/pandas/core/generic.py\u001b[0m in \u001b[0;36m_check_is_chained_assignment_possible\u001b[0;34m(self)\u001b[0m\n\u001b[1;32m   2625\u001b[0m             \u001b[0;32mif\u001b[0m \u001b[0mref\u001b[0m \u001b[0;32mis\u001b[0m \u001b[0;32mnot\u001b[0m \u001b[0;32mNone\u001b[0m \u001b[0;32mand\u001b[0m \u001b[0mref\u001b[0m\u001b[0;34m.\u001b[0m\u001b[0m_is_mixed_type\u001b[0m\u001b[0;34m:\u001b[0m\u001b[0;34m\u001b[0m\u001b[0;34m\u001b[0m\u001b[0m\n\u001b[1;32m   2626\u001b[0m                 self._check_setitem_copy(stacklevel=4, t='referant',\n\u001b[0;32m-> 2627\u001b[0;31m                                          force=True)\n\u001b[0m\u001b[1;32m   2628\u001b[0m             \u001b[0;32mreturn\u001b[0m \u001b[0;32mTrue\u001b[0m\u001b[0;34m\u001b[0m\u001b[0;34m\u001b[0m\u001b[0m\n\u001b[1;32m   2629\u001b[0m         \u001b[0;32melif\u001b[0m \u001b[0mself\u001b[0m\u001b[0;34m.\u001b[0m\u001b[0m_is_copy\u001b[0m\u001b[0;34m:\u001b[0m\u001b[0;34m\u001b[0m\u001b[0;34m\u001b[0m\u001b[0m\n",
      "\u001b[0;32m~/anaconda3/lib/python3.7/site-packages/pandas/core/generic.py\u001b[0m in \u001b[0;36m_check_setitem_copy\u001b[0;34m(self, stacklevel, t, force)\u001b[0m\n\u001b[1;32m   2671\u001b[0m             \u001b[0;31m# the copy weakref\u001b[0m\u001b[0;34m\u001b[0m\u001b[0;34m\u001b[0m\u001b[0;34m\u001b[0m\u001b[0m\n\u001b[1;32m   2672\u001b[0m             \u001b[0;32mtry\u001b[0m\u001b[0;34m:\u001b[0m\u001b[0;34m\u001b[0m\u001b[0;34m\u001b[0m\u001b[0m\n\u001b[0;32m-> 2673\u001b[0;31m                 \u001b[0mgc\u001b[0m\u001b[0;34m.\u001b[0m\u001b[0mcollect\u001b[0m\u001b[0;34m(\u001b[0m\u001b[0;36m2\u001b[0m\u001b[0;34m)\u001b[0m\u001b[0;34m\u001b[0m\u001b[0;34m\u001b[0m\u001b[0m\n\u001b[0m\u001b[1;32m   2674\u001b[0m                 \u001b[0;32mif\u001b[0m \u001b[0;32mnot\u001b[0m \u001b[0mgc\u001b[0m\u001b[0;34m.\u001b[0m\u001b[0mget_referents\u001b[0m\u001b[0;34m(\u001b[0m\u001b[0mself\u001b[0m\u001b[0;34m.\u001b[0m\u001b[0m_is_copy\u001b[0m\u001b[0;34m(\u001b[0m\u001b[0;34m)\u001b[0m\u001b[0;34m)\u001b[0m\u001b[0;34m:\u001b[0m\u001b[0;34m\u001b[0m\u001b[0;34m\u001b[0m\u001b[0m\n\u001b[1;32m   2675\u001b[0m                     \u001b[0mself\u001b[0m\u001b[0;34m.\u001b[0m\u001b[0m_is_copy\u001b[0m \u001b[0;34m=\u001b[0m \u001b[0;32mNone\u001b[0m\u001b[0;34m\u001b[0m\u001b[0;34m\u001b[0m\u001b[0m\n",
      "\u001b[0;31mKeyboardInterrupt\u001b[0m: "
     ]
    }
   ],
   "source": [
    "#Combine two data files to one named gil_info\n",
    "nrow_scr = len(gil_scr[\"id\"])\n",
    "nrow_info = len(gil_info[\"transcript_id\"])\n",
    "gil_scr[\"Impaired\"] = [[] for x in range(nrow_scr)]\n",
    "gil_scr[\"Age\"] = [[] for x in range(nrow_scr)]\n",
    "gil_scr[\"Gender\"] = [[] for x in range(nrow_scr)]\n",
    "\n",
    "for i in range(nrow_scr):\n",
    "    tran_id = gil_scr[\"transcript_id\"][i]\n",
    "    idx = list(gil_info[\"transcript_id\"]).index(int(tran_id))\n",
    "    gil_scr[\"Impaired\"][i] = gil_info[\"Impaired\"][idx]\n",
    "    gil_scr[\"Age\"][i] = gil_info[\"Age\"][idx]\n",
    "    gil_scr[\"Gender\"][i] = gil_info[\"Gender\"][idx]"
   ]
  },
  {
   "cell_type": "code",
   "execution_count": 4,
   "metadata": {},
   "outputs": [],
   "source": []
  },
  {
   "cell_type": "code",
>>>>>>> 8fc3baf0ddc261184808f6119f67a0acdb93a386
   "execution_count": 5,
   "metadata": {},
   "outputs": [
    {
     "data": {
      "text/html": [
       "<div>\n",
       "<style scoped>\n",
       "    .dataframe tbody tr th:only-of-type {\n",
       "        vertical-align: middle;\n",
       "    }\n",
       "\n",
       "    .dataframe tbody tr th {\n",
       "        vertical-align: top;\n",
       "    }\n",
       "\n",
       "    .dataframe thead th {\n",
       "        text-align: right;\n",
       "    }\n",
       "</style>\n",
       "<table border=\"1\" class=\"dataframe\">\n",
       "  <thead>\n",
       "    <tr style=\"text-align: right;\">\n",
       "      <th></th>\n",
       "      <th>transcript_id</th>\n",
       "      <th>date</th>\n",
       "      <th>Impaired</th>\n",
       "      <th>Age</th>\n",
       "      <th>Gender</th>\n",
       "      <th>gloss</th>\n",
       "      <th>PoS</th>\n",
       "    </tr>\n",
       "  </thead>\n",
       "  <tbody>\n",
       "    <tr>\n",
       "      <th>0</th>\n",
       "      <td>9573</td>\n",
       "      <td>2002-01-28</td>\n",
       "      <td>LangImpaired</td>\n",
       "      <td>10</td>\n",
       "      <td>f</td>\n",
       "      <td>[and she asked um where do you wanna go, and t...</td>\n",
       "      <td>[coord pro:sub v adv:int mod pro:per v v, coor...</td>\n",
       "    </tr>\n",
       "    <tr>\n",
       "      <th>1</th>\n",
       "      <td>9574</td>\n",
       "      <td>2002-12-02</td>\n",
       "      <td>LangImpaired</td>\n",
       "      <td>10</td>\n",
       "      <td>f</td>\n",
       "      <td>[um they were hungry, um mom says where do you...</td>\n",
       "      <td>[pro:sub cop adj, n v adv:int mod pro:per v in...</td>\n",
       "    </tr>\n",
       "    <tr>\n",
       "      <th>2</th>\n",
       "      <td>9575</td>\n",
       "      <td>2002-11-14</td>\n",
       "      <td>LangImpaired</td>\n",
       "      <td>10</td>\n",
       "      <td>f</td>\n",
       "      <td>[Lisa and Raymond and their mother were suppos...</td>\n",
       "      <td>[n:prop coord n:prop coord det:poss n aux part...</td>\n",
       "    </tr>\n",
       "    <tr>\n",
       "      <th>3</th>\n",
       "      <td>9576</td>\n",
       "      <td>2002-12-03</td>\n",
       "      <td>LangImpaired</td>\n",
       "      <td>10</td>\n",
       "      <td>f</td>\n",
       "      <td>[their mom said we'll go to Mcdonalds, and the...</td>\n",
       "      <td>[det:poss n v pro:sub v prep n:prop, coord pro...</td>\n",
       "    </tr>\n",
       "    <tr>\n",
       "      <th>4</th>\n",
       "      <td>9577</td>\n",
       "      <td>2002-11-05</td>\n",
       "      <td>LangImpaired</td>\n",
       "      <td>10</td>\n",
       "      <td>f</td>\n",
       "      <td>[um the boy and the girl ordered um, they went...</td>\n",
       "      <td>[det:art n coord det:art n v, pro:sub v prep n...</td>\n",
       "    </tr>\n",
       "  </tbody>\n",
       "</table>\n",
       "</div>"
      ],
      "text/plain": [
       "   transcript_id        date      Impaired  Age Gender  \\\n",
       "0           9573  2002-01-28  LangImpaired   10      f   \n",
       "1           9574  2002-12-02  LangImpaired   10      f   \n",
       "2           9575  2002-11-14  LangImpaired   10      f   \n",
       "3           9576  2002-12-03  LangImpaired   10      f   \n",
       "4           9577  2002-11-05  LangImpaired   10      f   \n",
       "\n",
       "                                               gloss  \\\n",
       "0  [and she asked um where do you wanna go, and t...   \n",
       "1  [um they were hungry, um mom says where do you...   \n",
       "2  [Lisa and Raymond and their mother were suppos...   \n",
       "3  [their mom said we'll go to Mcdonalds, and the...   \n",
       "4  [um the boy and the girl ordered um, they went...   \n",
       "\n",
       "                                                 PoS  \n",
       "0  [coord pro:sub v adv:int mod pro:per v v, coor...  \n",
       "1  [pro:sub cop adj, n v adv:int mod pro:per v in...  \n",
       "2  [n:prop coord n:prop coord det:poss n aux part...  \n",
       "3  [det:poss n v pro:sub v prep n:prop, coord pro...  \n",
       "4  [det:art n coord det:art n v, pro:sub v prep n...  "
      ]
     },
     "execution_count": 5,
     "metadata": {},
     "output_type": "execute_result"
    }
   ],
   "source": [
<<<<<<< HEAD
    "#Combine two data files to one named gil_info\n",
    "nrow_scr = len(gil_scr[\"id\"])\n",
    "nrow_info = len(gil_info[\"transcript_id\"])\n",
    "gil_scr[\"Impaired\"] = [[] for x in range(nrow_scr)]\n",
    "gil_scr[\"Age\"] = [[] for x in range(nrow_scr)]\n",
    "gil_scr[\"Gender\"] = [[] for x in range(nrow_scr)]\n",
    "\n",
    "for i in range(nrow_scr):\n",
    "    tran_id = gil_scr[\"transcript_id\"][i]\n",
    "    idx = list(gil_info[\"transcript_id\"]).index(int(tran_id))\n",
    "    gil_scr[\"Impaired\"][i] = gil_info[\"Impaired\"][idx]\n",
    "    gil_scr[\"Age\"][i] = gil_info[\"Age\"][idx]\n",
    "    gil_scr[\"Gender\"][i] = gil_info[\"Gender\"][idx]\n",
    "    \n",
    "#Resulted data\n",
    "pd.DataFrame.head(gil_info)"
   ]
=======
    "#Resulted data\n",
    "pd.DataFrame.head(gil_info)"
   ]
  },
  {
   "cell_type": "code",
   "execution_count": 31,
   "metadata": {},
   "outputs": [],
   "source": [
    "# Combine gloss for tokenization\n",
    "import itertools\n",
    "str_train = list(itertools.chain.from_iterable(train[\"gloss\"]))\n",
    "str_val = list(itertools.chain.from_iterable(val[\"gloss\"]))\n",
    "str_test = list(itertools.chain.from_iterable(test[\"gloss\"]))\n",
    "\n",
    "tokenizer = Tokenizer()\n",
    "tokenizer.fit_on_texts(str_train)\n",
    "\n",
    "# Transform list of strings to list of word sequences\n",
    "train_seq = []\n",
    "for lst in str_train:\n",
    "    seq = text_to_word_sequence(lst)\n",
    "    train_seq.append(seq)\n",
    "word_idx = tokenizer.word_index"
   ]
  },
  {
   "cell_type": "code",
   "execution_count": 75,
   "metadata": {},
   "outputs": [],
   "source": [
    "# Tokenize word strings and pad to length 100\n",
    "max_len = 100\n",
    "\n",
    "def to_tokens(text_data):\n",
    "    to_seq = tokenizer.texts_to_sequences(text_data)\n",
    "    x_data = pad_sequences(to_seq, maxlen = max_len)\n",
    "    return x_data\n",
    "\n",
    "X_train = to_tokens(str_train)\n",
    "X_val = to_tokens(str_val)\n",
    "X_test = to_tokens(str_test)\n",
    "\n",
    "# Preprocess output variable to categorical\n",
    "y_train = to_categorical(list(train['Age']))\n",
    "y_val = to_categorical(list(val['Age']))\n",
    "y_test = to_categorical(list(test['Age']))"
   ]
  },
  {
   "cell_type": "code",
   "execution_count": 89,
   "metadata": {},
   "outputs": [
    {
     "data": {
      "text/plain": [
       "81"
      ]
     },
     "execution_count": 89,
     "metadata": {},
     "output_type": "execute_result"
    }
   ],
   "source": [
    "len(y_val)"
   ]
  },
  {
   "cell_type": "markdown",
   "metadata": {},
   "source": [
    "## GloVe"
   ]
  },
  {
   "cell_type": "code",
   "execution_count": 33,
   "metadata": {},
   "outputs": [
    {
     "name": "stdout",
     "output_type": "stream",
     "text": [
      "Found 400000 word vectors.\n"
     ]
    }
   ],
   "source": [
    "import os\n",
    "\n",
    "# parsing the Glove word-embeddings (from the book)\n",
    "glove_dir = './glove.6B'\n",
    "\n",
    "embeddings_index = {}\n",
    "f = open(os.path.join(glove_dir, 'glove.6B.100d.txt'))\n",
    "for line in f:\n",
    "    values = line.split()\n",
    "    word = values[0]\n",
    "    coefs = np.asarray(values[1:], dtype='float32')\n",
    "    embeddings_index[word] = coefs\n",
    "f.close()\n",
    "print('Found {} word vectors.'.format(len(embeddings_index)))\n",
    "\n",
    "# preparing Glove word-embeddings matrix (from the book)\n",
    "max_words = len(word_idx)\n",
    "embedding_dim = 100\n",
    "\n",
    "EmbedMat_glove = np.zeros((max_words, embedding_dim))\n",
    "for word, i in word_idx.items():\n",
    "    if i < max_words:\n",
    "        embedding_vector = embeddings_index.get(word)\n",
    "        if embedding_vector is not None:\n",
    "            EmbedMat_glove[i] = embedding_vector"
   ]
  },
  {
   "cell_type": "markdown",
   "metadata": {},
   "source": [
    "## Word2Vec"
   ]
  },
  {
   "cell_type": "code",
   "execution_count": 70,
   "metadata": {},
   "outputs": [],
   "source": [
    "import gensim\n",
    "from gensim.models import word2vec\n",
    "\n",
    "# CBOW-based Word2Vec\n",
    "mod_cbow = word2vec.Word2Vec(train_seq, size = embedding_dim, sg = 0)\n",
    "\n",
    "## Take all unknown words to have word vectors of the average of the infrequent words\n",
    "inf_words_cbow = mod_cbow.wv.index2entity[-100:]\n",
    "UNK_vec_cbow = np.average(mod_cbow.wv[inf_words_cbow], axis=0)\n",
    "\n",
    "EmbedMat_cbow = np.zeros((max_words, embedding_dim))\n",
    "for word, i in word_idx.items():\n",
    "    if i < max_words:\n",
    "        if word in mod_cbow.wv.vocab:\n",
    "            embed_vec = mod_cbow.wv[word]\n",
    "            EmbedMat_cbow[i] = embed_vec\n",
    "        else:\n",
    "            EmbedMat_cbow[i] = UNK_vec_cbow\n",
    "            \n",
    "# SG-based Word2Vec\n",
    "mod_sg = word2vec.Word2Vec(train_seq, size = embedding_dim, sg = 1)\n",
    "mod_sg_wv = mod_sg.wv\n",
    "\n",
    "## Take all unknown words to have word vectors of the average of the infrequent words\n",
    "inf_words_sg = mod_sg.wv.index2entity[-100:]\n",
    "UNK_vec_sg = np.average(mod_sg.wv[inf_words_sg], axis=0)\n",
    "\n",
    "EmbedMat_sg = np.zeros((max_words, embedding_dim))\n",
    "for word, i in word_idx.items():\n",
    "    if i < max_words:\n",
    "        if word in mod_sg.wv.vocab:\n",
    "            embed_vec = mod_sg.wv[word]\n",
    "            EmbedMat_cbow[i] = embed_vec\n",
    "        else:\n",
    "            EmbedMat_cbow[i] = UNK_vec_sg"
   ]
  },
  {
   "cell_type": "code",
   "execution_count": 73,
   "metadata": {},
   "outputs": [],
   "source": [
    "## Tally Embedding Matrices obtained from different methods\n",
    "EmbedMat_dict = {\n",
    "    \"Glove\"    :  EmbedMat_glove,\n",
    "    \"w2v_cbow\" :  EmbedMat_cbow,\n",
    "    \"w2v_sg\"   :  EmbedMat_sg\n",
    "}"
   ]
  },
  {
   "cell_type": "markdown",
   "metadata": {},
   "source": [
    "## Naive approach as baseline"
   ]
  },
  {
   "cell_type": "code",
   "execution_count": 86,
   "metadata": {},
   "outputs": [
    {
     "name": "stdout",
     "output_type": "stream",
     "text": [
      "_________________________________________________________________\n",
      "Layer (type)                 Output Shape              Param #   \n",
      "=================================================================\n",
      "embedding_7 (Embedding)      (None, 100, 64)           218048    \n",
      "_________________________________________________________________\n",
      "flatten_7 (Flatten)          (None, 6400)              0         \n",
      "_________________________________________________________________\n",
      "dense_25 (Dense)             (None, 64)                409664    \n",
      "_________________________________________________________________\n",
      "dense_26 (Dense)             (None, 64)                4160      \n",
      "_________________________________________________________________\n",
      "dense_27 (Dense)             (None, 64)                4160      \n",
      "_________________________________________________________________\n",
      "dense_28 (Dense)             (None, 12)                780       \n",
      "=================================================================\n",
      "Total params: 636,812\n",
      "Trainable params: 636,812\n",
      "Non-trainable params: 0\n",
      "_________________________________________________________________\n"
     ]
    }
   ],
   "source": [
    "naive = Sequential()\n",
    "naive.add(Embedding(max_words, 64, input_length=max_len))\n",
    "naive.add(Flatten())\n",
    "naive.add(Dense(64, activation='relu'))\n",
    "naive.add(Dense(64, activation='relu'))\n",
    "naive.add(Dense(64, activation='relu'))\n",
    "naive.add(Dense(12, activation='softmax'))\n",
    "naive.summary()\n",
    "naive.compile(optimizer='rmsprop',\n",
    "              loss='categorical_crossentropy',\n",
    "              metrics=['acc'])"
   ]
  },
  {
   "cell_type": "code",
   "execution_count": 87,
   "metadata": {},
   "outputs": [
    {
     "ename": "ValueError",
     "evalue": "Input arrays should have the same number of samples as target arrays. Found 17673 input samples and 453 target samples.",
     "output_type": "error",
     "traceback": [
      "\u001b[0;31m---------------------------------------------------------------------------\u001b[0m",
      "\u001b[0;31mValueError\u001b[0m                                Traceback (most recent call last)",
      "\u001b[0;32m<ipython-input-87-d12815995b88>\u001b[0m in \u001b[0;36m<module>\u001b[0;34m\u001b[0m\n\u001b[1;32m      1\u001b[0m naive_history = naive.fit(X_train, y_train, epochs=50, batch_size=512,\n\u001b[0;32m----> 2\u001b[0;31m                           validation_data=(X_val, y_val))\n\u001b[0m",
      "\u001b[0;32m~/anaconda3/lib/python3.7/site-packages/keras/engine/training.py\u001b[0m in \u001b[0;36mfit\u001b[0;34m(self, x, y, batch_size, epochs, verbose, callbacks, validation_split, validation_data, shuffle, class_weight, sample_weight, initial_epoch, steps_per_epoch, validation_steps, **kwargs)\u001b[0m\n\u001b[1;32m    950\u001b[0m             \u001b[0msample_weight\u001b[0m\u001b[0;34m=\u001b[0m\u001b[0msample_weight\u001b[0m\u001b[0;34m,\u001b[0m\u001b[0;34m\u001b[0m\u001b[0;34m\u001b[0m\u001b[0m\n\u001b[1;32m    951\u001b[0m             \u001b[0mclass_weight\u001b[0m\u001b[0;34m=\u001b[0m\u001b[0mclass_weight\u001b[0m\u001b[0;34m,\u001b[0m\u001b[0;34m\u001b[0m\u001b[0;34m\u001b[0m\u001b[0m\n\u001b[0;32m--> 952\u001b[0;31m             batch_size=batch_size)\n\u001b[0m\u001b[1;32m    953\u001b[0m         \u001b[0;31m# Prepare validation data.\u001b[0m\u001b[0;34m\u001b[0m\u001b[0;34m\u001b[0m\u001b[0;34m\u001b[0m\u001b[0m\n\u001b[1;32m    954\u001b[0m         \u001b[0mdo_validation\u001b[0m \u001b[0;34m=\u001b[0m \u001b[0;32mFalse\u001b[0m\u001b[0;34m\u001b[0m\u001b[0;34m\u001b[0m\u001b[0m\n",
      "\u001b[0;32m~/anaconda3/lib/python3.7/site-packages/keras/engine/training.py\u001b[0m in \u001b[0;36m_standardize_user_data\u001b[0;34m(self, x, y, sample_weight, class_weight, check_array_lengths, batch_size)\u001b[0m\n\u001b[1;32m    802\u001b[0m             ]\n\u001b[1;32m    803\u001b[0m             \u001b[0;31m# Check that all arrays have the same length.\u001b[0m\u001b[0;34m\u001b[0m\u001b[0;34m\u001b[0m\u001b[0;34m\u001b[0m\u001b[0m\n\u001b[0;32m--> 804\u001b[0;31m             \u001b[0mcheck_array_length_consistency\u001b[0m\u001b[0;34m(\u001b[0m\u001b[0mx\u001b[0m\u001b[0;34m,\u001b[0m \u001b[0my\u001b[0m\u001b[0;34m,\u001b[0m \u001b[0msample_weights\u001b[0m\u001b[0;34m)\u001b[0m\u001b[0;34m\u001b[0m\u001b[0;34m\u001b[0m\u001b[0m\n\u001b[0m\u001b[1;32m    805\u001b[0m             \u001b[0;32mif\u001b[0m \u001b[0mself\u001b[0m\u001b[0;34m.\u001b[0m\u001b[0m_is_graph_network\u001b[0m\u001b[0;34m:\u001b[0m\u001b[0;34m\u001b[0m\u001b[0;34m\u001b[0m\u001b[0m\n\u001b[1;32m    806\u001b[0m                 \u001b[0;31m# Additional checks to avoid users mistakenly\u001b[0m\u001b[0;34m\u001b[0m\u001b[0;34m\u001b[0m\u001b[0;34m\u001b[0m\u001b[0m\n",
      "\u001b[0;32m~/anaconda3/lib/python3.7/site-packages/keras/engine/training_utils.py\u001b[0m in \u001b[0;36mcheck_array_length_consistency\u001b[0;34m(inputs, targets, weights)\u001b[0m\n\u001b[1;32m    235\u001b[0m                          \u001b[0;34m'the same number of samples as target arrays. '\u001b[0m\u001b[0;34m\u001b[0m\u001b[0;34m\u001b[0m\u001b[0m\n\u001b[1;32m    236\u001b[0m                          \u001b[0;34m'Found '\u001b[0m \u001b[0;34m+\u001b[0m \u001b[0mstr\u001b[0m\u001b[0;34m(\u001b[0m\u001b[0mlist\u001b[0m\u001b[0;34m(\u001b[0m\u001b[0mset_x\u001b[0m\u001b[0;34m)\u001b[0m\u001b[0;34m[\u001b[0m\u001b[0;36m0\u001b[0m\u001b[0;34m]\u001b[0m\u001b[0;34m)\u001b[0m \u001b[0;34m+\u001b[0m \u001b[0;34m' input samples '\u001b[0m\u001b[0;34m\u001b[0m\u001b[0;34m\u001b[0m\u001b[0m\n\u001b[0;32m--> 237\u001b[0;31m                          'and ' + str(list(set_y)[0]) + ' target samples.')\n\u001b[0m\u001b[1;32m    238\u001b[0m     \u001b[0;32mif\u001b[0m \u001b[0mlen\u001b[0m\u001b[0;34m(\u001b[0m\u001b[0mset_w\u001b[0m\u001b[0;34m)\u001b[0m \u001b[0;34m>\u001b[0m \u001b[0;36m1\u001b[0m\u001b[0;34m:\u001b[0m\u001b[0;34m\u001b[0m\u001b[0;34m\u001b[0m\u001b[0m\n\u001b[1;32m    239\u001b[0m         raise ValueError('All sample_weight arrays should have '\n",
      "\u001b[0;31mValueError\u001b[0m: Input arrays should have the same number of samples as target arrays. Found 17673 input samples and 453 target samples."
     ]
    }
   ],
   "source": [
    "naive_history = naive.fit(X_train, y_train, epochs=50, batch_size=512,\n",
    "                          validation_data=(X_val, y_val))"
   ]
  },
  {
   "cell_type": "code",
   "execution_count": null,
   "metadata": {},
   "outputs": [],
   "source": []
>>>>>>> 8fc3baf0ddc261184808f6119f67a0acdb93a386
  }
 ],
 "metadata": {
  "kernelspec": {
   "display_name": "Python 3",
   "language": "python",
   "name": "python3"
  },
  "language_info": {
   "codemirror_mode": {
    "name": "ipython",
    "version": 3
   },
   "file_extension": ".py",
   "mimetype": "text/x-python",
   "name": "python",
   "nbconvert_exporter": "python",
   "pygments_lexer": "ipython3",
   "version": "3.6.5"
  }
 },
 "nbformat": 4,
 "nbformat_minor": 2
}
